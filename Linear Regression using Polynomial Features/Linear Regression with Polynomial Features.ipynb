{
 "cells": [
  {
   "cell_type": "code",
   "execution_count": 24,
   "metadata": {},
   "outputs": [],
   "source": [
    "import pandas as pd\n",
    "from sklearn.model_selection import train_test_split\n",
    "from sklearn.linear_model import LinearRegression\n",
    "from sklearn.metrics import mean_absolute_error\n",
    "import matplotlib.pyplot as plt"
   ]
  },
  {
   "cell_type": "code",
   "execution_count": 25,
   "metadata": {},
   "outputs": [
    {
     "data": {
      "text/plain": [
       "0      3.52\n",
       "1      2.91\n",
       "2      2.40\n",
       "3      3.47\n",
       "4      3.47\n",
       "       ... \n",
       "100    3.64\n",
       "101    3.42\n",
       "102    3.25\n",
       "103    2.76\n",
       "104    3.41\n",
       "Name: univ_GPA, Length: 105, dtype: float64"
      ]
     },
     "execution_count": 25,
     "metadata": {},
     "output_type": "execute_result"
    }
   ],
   "source": [
    "# Importing the dataset\n",
    "dataset = pd.read_csv('satf.csv')\n",
    "dataset.head(10)\n",
    "\n",
    "\n",
    "X = dataset.iloc[:,:1] \n",
    "y = dataset.iloc[:, -1]\n",
    "\n",
    "X\n",
    "y"
   ]
  },
  {
   "cell_type": "code",
   "execution_count": 26,
   "metadata": {},
   "outputs": [
    {
     "data": {
      "text/plain": [
       "26     2.40\n",
       "61     3.38\n",
       "2      2.40\n",
       "62     3.41\n",
       "85     3.48\n",
       "48     3.01\n",
       "16     3.73\n",
       "100    3.64\n",
       "56     3.40\n",
       "45     3.19\n",
       "66     3.37\n",
       "97     3.28\n",
       "51     2.40\n",
       "13     3.71\n",
       "7      2.24\n",
       "30     3.62\n",
       "22     3.28\n",
       "24     3.61\n",
       "33     3.76\n",
       "8      3.02\n",
       "43     3.39\n",
       "Name: univ_GPA, dtype: float64"
      ]
     },
     "execution_count": 26,
     "metadata": {},
     "output_type": "execute_result"
    }
   ],
   "source": [
    "# Splitting the dataset into the Training set and Test set\n",
    "X_train, X_test, y_train, y_test = train_test_split(X, y, test_size = 0.2, random_state = 0)\n",
    "\n",
    "\n",
    "X_train\n",
    "X_test\n",
    "y_train\n",
    "y_test "
   ]
  },
  {
   "cell_type": "code",
   "execution_count": 27,
   "metadata": {},
   "outputs": [
    {
     "data": {
      "text/plain": [
       "(21, 3)"
      ]
     },
     "execution_count": 27,
     "metadata": {},
     "output_type": "execute_result"
    }
   ],
   "source": [
    "# Fitting Polynomial Regression to the dataset\n",
    "from sklearn.preprocessing import PolynomialFeatures\n",
    "poly_reg = PolynomialFeatures(degree = 2)\n",
    "X_train2 = poly_reg.fit_transform(X_train)\n",
    "X_test2 = poly_reg.fit_transform(X_test)\n",
    "\n",
    "\n",
    "X_train2.shape \n",
    "X_test2.shape "
   ]
  },
  {
   "cell_type": "code",
   "execution_count": 30,
   "metadata": {},
   "outputs": [],
   "source": [
    "# using linear regression algorithm\n",
    "regressor = LinearRegression()\n",
    "regressor.fit(X_train2, y_train )\n",
    "\n",
    "y_pred2 = regressor.predict(X_test2) "
   ]
  },
  {
   "cell_type": "code",
   "execution_count": 31,
   "metadata": {},
   "outputs": [
    {
     "data": {
      "text/plain": [
       "0.18274265131220213"
      ]
     },
     "execution_count": 31,
     "metadata": {},
     "output_type": "execute_result"
    }
   ],
   "source": [
    "# meausre the cost function\n",
    "mean_absolute_error(y_test, y_pred2)\n",
    "\n",
    "from sklearn.metrics import mean_squared_error\n",
    "mean_squared_error(y_test, y_pred2)\n",
    "\n",
    "from sklearn.metrics import median_absolute_error\n",
    "median_absolute_error(y_test, y_pred2)\n",
    "\n",
    " \n",
    "\n",
    " \n",
    " "
   ]
  },
  {
   "cell_type": "code",
   "execution_count": null,
   "metadata": {},
   "outputs": [],
   "source": []
  }
 ],
 "metadata": {
  "kernelspec": {
   "display_name": "Python 3",
   "language": "python",
   "name": "python3"
  },
  "language_info": {
   "codemirror_mode": {
    "name": "ipython",
    "version": 3
   },
   "file_extension": ".py",
   "mimetype": "text/x-python",
   "name": "python",
   "nbconvert_exporter": "python",
   "pygments_lexer": "ipython3",
   "version": "3.8.5"
  }
 },
 "nbformat": 4,
 "nbformat_minor": 4
}
