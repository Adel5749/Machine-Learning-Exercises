{
 "cells": [
  {
   "cell_type": "code",
   "execution_count": 2,
   "metadata": {
    "colab": {
     "base_uri": "https://localhost:8080/",
     "height": 1000
    },
    "id": "--cQP_PDkH8S",
    "outputId": "fbfa688b-e975-4324-cb9c-2e4f91f9617f"
   },
   "outputs": [],
   "source": [
    "#import libraries\n",
    "import numpy as np\n",
    "import pandas as pd\n",
    "import matplotlib.pyplot as plt"
   ]
  },
  {
   "cell_type": "code",
   "execution_count": 6,
   "metadata": {
    "colab": {
     "base_uri": "https://localhost:8080/",
     "height": 1000
    },
    "id": "--cQP_PDkH8S",
    "outputId": "fbfa688b-e975-4324-cb9c-2e4f91f9617f"
   },
   "outputs": [],
   "source": [
    "#read data\n",
    "path = 'Ex1data1.txt'\n",
    "data = pd.read_csv(path, header=None, names=['Population', 'Profit'])"
   ]
  },
  {
   "cell_type": "code",
   "execution_count": 7,
   "metadata": {
    "colab": {
     "base_uri": "https://localhost:8080/",
     "height": 1000
    },
    "id": "--cQP_PDkH8S",
    "outputId": "fbfa688b-e975-4324-cb9c-2e4f91f9617f"
   },
   "outputs": [
    {
     "name": "stdout",
     "output_type": "stream",
     "text": [
      "data = \n",
      "    Population   Profit\n",
      "0      6.1101  17.5920\n",
      "1      5.5277   9.1302\n",
      "2      8.5186  13.6620\n",
      "3      7.0032  11.8540\n",
      "4      5.8598   6.8233\n",
      "5      8.3829  11.8860\n",
      "6      7.4764   4.3483\n",
      "7      8.5781  12.0000\n",
      "8      6.4862   6.5987\n",
      "9      5.0546   3.8166\n",
      "**************************************\n",
      "data.describe = \n",
      "        Population     Profit\n",
      "count   97.000000  97.000000\n",
      "mean     8.159800   5.839135\n",
      "std      3.869884   5.510262\n",
      "min      5.026900  -2.680700\n",
      "25%      5.707700   1.986900\n",
      "50%      6.589400   4.562300\n",
      "75%      8.578100   7.046700\n",
      "max     22.203000  24.147000\n",
      "**************************************\n"
     ]
    },
    {
     "data": {
      "text/plain": [
       "<AxesSubplot:xlabel='Population', ylabel='Profit'>"
      ]
     },
     "execution_count": 7,
     "metadata": {},
     "output_type": "execute_result"
    },
    {
     "data": {
      "image/png": "[encoded data removed]",
      "text/plain": [
       "<Figure size 360x360 with 1 Axes>"
      ]
     },
     "metadata": {
      "needs_background": "light"
     },
     "output_type": "display_data"
    }
   ],
   "source": [
    "#show data details\n",
    "print('data = \\n' ,data.head(10) )\n",
    "print('**************************************')\n",
    "print('data.describe = \\n',data.describe())\n",
    "print('**************************************')\n",
    "#draw data\n",
    "data.plot(kind='scatter', x='Population', y='Profit', figsize=(5,5))\n",
    "\n",
    "#========================================================================="
   ]
  },
  {
   "cell_type": "code",
   "execution_count": 8,
   "metadata": {
    "colab": {
     "base_uri": "https://localhost:8080/",
     "height": 1000
    },
    "id": "--cQP_PDkH8S",
    "outputId": "fbfa688b-e975-4324-cb9c-2e4f91f9617f"
   },
   "outputs": [
    {
     "name": "stdout",
     "output_type": "stream",
     "text": [
      "new data = \n",
      "    Ones  Population   Profit\n",
      "0     1      6.1101  17.5920\n",
      "1     1      5.5277   9.1302\n",
      "2     1      8.5186  13.6620\n",
      "3     1      7.0032  11.8540\n",
      "4     1      5.8598   6.8233\n",
      "5     1      8.3829  11.8860\n",
      "6     1      7.4764   4.3483\n",
      "7     1      8.5781  12.0000\n",
      "8     1      6.4862   6.5987\n",
      "9     1      5.0546   3.8166\n",
      "**************************************\n"
     ]
    }
   ],
   "source": [
    "# adding a new column called ones before the data\n",
    "data.insert(0, 'Ones', 1)\n",
    "print('new data = \\n' ,data.head(10) )\n",
    "print('**************************************')"
   ]
  },
  {
   "cell_type": "code",
   "execution_count": 9,
   "metadata": {
    "colab": {
     "base_uri": "https://localhost:8080/",
     "height": 1000
    },
    "id": "--cQP_PDkH8S",
    "outputId": "fbfa688b-e975-4324-cb9c-2e4f91f9617f"
   },
   "outputs": [
    {
     "name": "stdout",
     "output_type": "stream",
     "text": [
      "**************************************\n",
      "X data = \n",
      "    Ones  Population\n",
      "0     1      6.1101\n",
      "1     1      5.5277\n",
      "2     1      8.5186\n",
      "3     1      7.0032\n",
      "4     1      5.8598\n",
      "5     1      8.3829\n",
      "6     1      7.4764\n",
      "7     1      8.5781\n",
      "8     1      6.4862\n",
      "9     1      5.0546\n",
      "y data = \n",
      "     Profit\n",
      "0  17.5920\n",
      "1   9.1302\n",
      "2  13.6620\n",
      "3  11.8540\n",
      "4   6.8233\n",
      "5  11.8860\n",
      "6   4.3483\n",
      "7  12.0000\n",
      "8   6.5987\n",
      "9   3.8166\n",
      "**************************************\n"
     ]
    }
   ],
   "source": [
    "# separate X (training data) from y (target variable)\n",
    "cols = data.shape[1]\n",
    "X = data.iloc[:,0:cols-1]\n",
    "y = data.iloc[:,cols-1:cols]\n",
    "\n",
    "print('**************************************')\n",
    "print('X data = \\n' ,X.head(10) )\n",
    "print('y data = \\n' ,y.head(10) )\n",
    "print('**************************************')"
   ]
  },
  {
   "cell_type": "code",
   "execution_count": 10,
   "metadata": {
    "colab": {
     "base_uri": "https://localhost:8080/",
     "height": 1000
    },
    "id": "--cQP_PDkH8S",
    "outputId": "fbfa688b-e975-4324-cb9c-2e4f91f9617f"
   },
   "outputs": [
    {
     "name": "stdout",
     "output_type": "stream",
     "text": [
      "X \n",
      " [[ 1.      6.1101]\n",
      " [ 1.      5.5277]\n",
      " [ 1.      8.5186]\n",
      " [ 1.      7.0032]\n",
      " [ 1.      5.8598]\n",
      " [ 1.      8.3829]\n",
      " [ 1.      7.4764]\n",
      " [ 1.      8.5781]\n",
      " [ 1.      6.4862]\n",
      " [ 1.      5.0546]\n",
      " [ 1.      5.7107]\n",
      " [ 1.     14.164 ]\n",
      " [ 1.      5.734 ]\n",
      " [ 1.      8.4084]\n",
      " [ 1.      5.6407]\n",
      " [ 1.      5.3794]\n",
      " [ 1.      6.3654]\n",
      " [ 1.      5.1301]\n",
      " [ 1.      6.4296]\n",
      " [ 1.      7.0708]\n",
      " [ 1.      6.1891]\n",
      " [ 1.     20.27  ]\n",
      " [ 1.      5.4901]\n",
      " [ 1.      6.3261]\n",
      " [ 1.      5.5649]\n",
      " [ 1.     18.945 ]\n",
      " [ 1.     12.828 ]\n",
      " [ 1.     10.957 ]\n",
      " [ 1.     13.176 ]\n",
      " [ 1.     22.203 ]\n",
      " [ 1.      5.2524]\n",
      " [ 1.      6.5894]\n",
      " [ 1.      9.2482]\n",
      " [ 1.      5.8918]\n",
      " [ 1.      8.2111]\n",
      " [ 1.      7.9334]\n",
      " [ 1.      8.0959]\n",
      " [ 1.      5.6063]\n",
      " [ 1.     12.836 ]\n",
      " [ 1.      6.3534]\n",
      " [ 1.      5.4069]\n",
      " [ 1.      6.8825]\n",
      " [ 1.     11.708 ]\n",
      " [ 1.      5.7737]\n",
      " [ 1.      7.8247]\n",
      " [ 1.      7.0931]\n",
      " [ 1.      5.0702]\n",
      " [ 1.      5.8014]\n",
      " [ 1.     11.7   ]\n",
      " [ 1.      5.5416]\n",
      " [ 1.      7.5402]\n",
      " [ 1.      5.3077]\n",
      " [ 1.      7.4239]\n",
      " [ 1.      7.6031]\n",
      " [ 1.      6.3328]\n",
      " [ 1.      6.3589]\n",
      " [ 1.      6.2742]\n",
      " [ 1.      5.6397]\n",
      " [ 1.      9.3102]\n",
      " [ 1.      9.4536]\n",
      " [ 1.      8.8254]\n",
      " [ 1.      5.1793]\n",
      " [ 1.     21.279 ]\n",
      " [ 1.     14.908 ]\n",
      " [ 1.     18.959 ]\n",
      " [ 1.      7.2182]\n",
      " [ 1.      8.2951]\n",
      " [ 1.     10.236 ]\n",
      " [ 1.      5.4994]\n",
      " [ 1.     20.341 ]\n",
      " [ 1.     10.136 ]\n",
      " [ 1.      7.3345]\n",
      " [ 1.      6.0062]\n",
      " [ 1.      7.2259]\n",
      " [ 1.      5.0269]\n",
      " [ 1.      6.5479]\n",
      " [ 1.      7.5386]\n",
      " [ 1.      5.0365]\n",
      " [ 1.     10.274 ]\n",
      " [ 1.      5.1077]\n",
      " [ 1.      5.7292]\n",
      " [ 1.      5.1884]\n",
      " [ 1.      6.3557]\n",
      " [ 1.      9.7687]\n",
      " [ 1.      6.5159]\n",
      " [ 1.      8.5172]\n",
      " [ 1.      9.1802]\n",
      " [ 1.      6.002 ]\n",
      " [ 1.      5.5204]\n",
      " [ 1.      5.0594]\n",
      " [ 1.      5.7077]\n",
      " [ 1.      7.6366]\n",
      " [ 1.      5.8707]\n",
      " [ 1.      5.3054]\n",
      " [ 1.      8.2934]\n",
      " [ 1.     13.394 ]\n",
      " [ 1.      5.4369]]\n",
      "X.shape =  (97, 2)\n",
      "theta \n",
      " [[0 0]]\n",
      "theta.shape =  (1, 2)\n",
      "y \n",
      " [[17.592  ]\n",
      " [ 9.1302 ]\n",
      " [13.662  ]\n",
      " [11.854  ]\n",
      " [ 6.8233 ]\n",
      " [11.886  ]\n",
      " [ 4.3483 ]\n",
      " [12.     ]\n",
      " [ 6.5987 ]\n",
      " [ 3.8166 ]\n",
      " [ 3.2522 ]\n",
      " [15.505  ]\n",
      " [ 3.1551 ]\n",
      " [ 7.2258 ]\n",
      " [ 0.71618]\n",
      " [ 3.5129 ]\n",
      " [ 5.3048 ]\n",
      " [ 0.56077]\n",
      " [ 3.6518 ]\n",
      " [ 5.3893 ]\n",
      " [ 3.1386 ]\n",
      " [21.767  ]\n",
      " [ 4.263  ]\n",
      " [ 5.1875 ]\n",
      " [ 3.0825 ]\n",
      " [22.638  ]\n",
      " [13.501  ]\n",
      " [ 7.0467 ]\n",
      " [14.692  ]\n",
      " [24.147  ]\n",
      " [-1.22   ]\n",
      " [ 5.9966 ]\n",
      " [12.134  ]\n",
      " [ 1.8495 ]\n",
      " [ 6.5426 ]\n",
      " [ 4.5623 ]\n",
      " [ 4.1164 ]\n",
      " [ 3.3928 ]\n",
      " [10.117  ]\n",
      " [ 5.4974 ]\n",
      " [ 0.55657]\n",
      " [ 3.9115 ]\n",
      " [ 5.3854 ]\n",
      " [ 2.4406 ]\n",
      " [ 6.7318 ]\n",
      " [ 1.0463 ]\n",
      " [ 5.1337 ]\n",
      " [ 1.844  ]\n",
      " [ 8.0043 ]\n",
      " [ 1.0179 ]\n",
      " [ 6.7504 ]\n",
      " [ 1.8396 ]\n",
      " [ 4.2885 ]\n",
      " [ 4.9981 ]\n",
      " [ 1.4233 ]\n",
      " [-1.4211 ]\n",
      " [ 2.4756 ]\n",
      " [ 4.6042 ]\n",
      " [ 3.9624 ]\n",
      " [ 5.4141 ]\n",
      " [ 5.1694 ]\n",
      " [-0.74279]\n",
      " [17.929  ]\n",
      " [12.054  ]\n",
      " [17.054  ]\n",
      " [ 4.8852 ]\n",
      " [ 5.7442 ]\n",
      " [ 7.7754 ]\n",
      " [ 1.0173 ]\n",
      " [20.992  ]\n",
      " [ 6.6799 ]\n",
      " [ 4.0259 ]\n",
      " [ 1.2784 ]\n",
      " [ 3.3411 ]\n",
      " [-2.6807 ]\n",
      " [ 0.29678]\n",
      " [ 3.8845 ]\n",
      " [ 5.7014 ]\n",
      " [ 6.7526 ]\n",
      " [ 2.0576 ]\n",
      " [ 0.47953]\n",
      " [ 0.20421]\n",
      " [ 0.67861]\n",
      " [ 7.5435 ]\n",
      " [ 5.3436 ]\n",
      " [ 4.2415 ]\n",
      " [ 6.7981 ]\n",
      " [ 0.92695]\n",
      " [ 0.152  ]\n",
      " [ 2.8214 ]\n",
      " [ 1.8451 ]\n",
      " [ 4.2959 ]\n",
      " [ 7.2029 ]\n",
      " [ 1.9869 ]\n",
      " [ 0.14454]\n",
      " [ 9.0551 ]\n",
      " [ 0.61705]]\n",
      "y.shape =  (97, 1)\n",
      "**************************************\n"
     ]
    }
   ],
   "source": [
    "# convert from data frames to numpy matrices\n",
    "X = np.matrix(X.values)\n",
    "y = np.matrix(y.values)\n",
    "theta = np.matrix(np.array([0,0]))\n",
    "\n",
    "print('X \\n',X)\n",
    "print('X.shape = ' , X.shape)\n",
    "print('theta \\n',theta)\n",
    "print('theta.shape = ' , theta.shape)\n",
    "print('y \\n',y)\n",
    "print('y.shape = ' , y.shape)\n",
    "print('**************************************')\n",
    "\n",
    "#========================================================================="
   ]
  },
  {
   "cell_type": "code",
   "execution_count": 11,
   "metadata": {
    "colab": {
     "base_uri": "https://localhost:8080/",
     "height": 1000
    },
    "id": "--cQP_PDkH8S",
    "outputId": "fbfa688b-e975-4324-cb9c-2e4f91f9617f"
   },
   "outputs": [
    {
     "name": "stdout",
     "output_type": "stream",
     "text": [
      "computeCost(X, y, theta) =  32.072733877455676\n",
      "**************************************\n"
     ]
    }
   ],
   "source": [
    "# cost function\n",
    "def computeCost(X, y, theta):\n",
    "    z = np.power(((X * theta.T) - y), 2)\n",
    "#    print('z \\n',z)\n",
    "#    print('m ' ,len(X))\n",
    "    return np.sum(z) / (2 * len(X))\n",
    "\n",
    "print('computeCost(X, y, theta) = ' , computeCost(X, y, theta))\n",
    "\n",
    "print('**************************************')"
   ]
  },
  {
   "cell_type": "code",
   "execution_count": 12,
   "metadata": {
    "colab": {
     "base_uri": "https://localhost:8080/",
     "height": 1000
    },
    "id": "--cQP_PDkH8S",
    "outputId": "fbfa688b-e975-4324-cb9c-2e4f91f9617f"
   },
   "outputs": [
    {
     "name": "stdout",
     "output_type": "stream",
     "text": [
      "g =  [[-3.24140214  1.1272942 ]]\n",
      "cost  =  [6.73719046 5.93159357 5.90115471 5.89522859 5.89009494 5.88500416\n",
      " 5.87993248 5.87487909 5.86984391 5.86482687 5.85982789 5.85484692\n",
      " 5.84988389 5.84493874 5.8400114  5.83510181 5.8302099  5.82533562\n",
      " 5.82047889 5.81563965 5.81081784 5.8060134  5.80122627 5.79645638\n",
      " 5.79170367 5.78696808 5.78224955 5.77754801 5.77286341 5.76819568\n",
      " 5.76354477 5.75891061 5.75429313 5.7496923  5.74510803 5.74054027\n",
      " 5.73598897 5.73145406 5.72693549 5.72243319 5.71794711 5.71347718\n",
      " 5.70902336 5.70458558 5.70016379 5.69575792 5.69136792 5.68699373\n",
      " 5.6826353  5.67829257]\n",
      "computeCost =  4.515955503078912\n",
      "**************************************\n",
      "x \n",
      " [ 5.0269      5.20039596  5.37389192  5.54738788  5.72088384  5.8943798\n",
      "  6.06787576  6.24137172  6.41486768  6.58836364  6.7618596   6.93535556\n",
      "  7.10885152  7.28234747  7.45584343  7.62933939  7.80283535  7.97633131\n",
      "  8.14982727  8.32332323  8.49681919  8.67031515  8.84381111  9.01730707\n",
      "  9.19080303  9.36429899  9.53779495  9.71129091  9.88478687 10.05828283\n",
      " 10.23177879 10.40527475 10.57877071 10.75226667 10.92576263 11.09925859\n",
      " 11.27275455 11.44625051 11.61974646 11.79324242 11.96673838 12.14023434\n",
      " 12.3137303  12.48722626 12.66072222 12.83421818 13.00771414 13.1812101\n",
      " 13.35470606 13.52820202 13.70169798 13.87519394 14.0486899  14.22218586\n",
      " 14.39568182 14.56917778 14.74267374 14.9161697  15.08966566 15.26316162\n",
      " 15.43665758 15.61015354 15.78364949 15.95714545 16.13064141 16.30413737\n",
      " 16.47763333 16.65112929 16.82462525 16.99812121 17.17161717 17.34511313\n",
      " 17.51860909 17.69210505 17.86560101 18.03909697 18.21259293 18.38608889\n",
      " 18.55958485 18.73308081 18.90657677 19.08007273 19.25356869 19.42706465\n",
      " 19.60056061 19.77405657 19.94755253 20.12104848 20.29454444 20.4680404\n",
      " 20.64153636 20.81503232 20.98852828 21.16202424 21.3355202  21.50901616\n",
      " 21.68251212 21.85600808 22.02950404 22.203     ]\n",
      "g \n",
      " [[-3.24140214  1.1272942 ]]\n",
      "f \n",
      " [ 2.42539308  2.62097407  2.81655506  3.01213605  3.20771704  3.40329803\n",
      "  3.59887902  3.79446001  3.990041    4.18562199  4.38120298  4.57678397\n",
      "  4.77236495  4.96794594  5.16352693  5.35910792  5.55468891  5.7502699\n",
      "  5.94585089  6.14143188  6.33701287  6.53259386  6.72817485  6.92375584\n",
      "  7.11933683  7.31491782  7.51049881  7.7060798   7.90166079  8.09724177\n",
      "  8.29282276  8.48840375  8.68398474  8.87956573  9.07514672  9.27072771\n",
      "  9.4663087   9.66188969  9.85747068 10.05305167 10.24863266 10.44421365\n",
      " 10.63979464 10.83537563 11.03095662 11.2265376  11.42211859 11.61769958\n",
      " 11.81328057 12.00886156 12.20444255 12.40002354 12.59560453 12.79118552\n",
      " 12.98676651 13.1823475  13.37792849 13.57350948 13.76909047 13.96467146\n",
      " 14.16025245 14.35583344 14.55141442 14.74699541 14.9425764  15.13815739\n",
      " 15.33373838 15.52931937 15.72490036 15.92048135 16.11606234 16.31164333\n",
      " 16.50722432 16.70280531 16.8983863  17.09396729 17.28954828 17.48512927\n",
      " 17.68071025 17.87629124 18.07187223 18.26745322 18.46303421 18.6586152\n",
      " 18.85419619 19.04977718 19.24535817 19.44093916 19.63652015 19.83210114\n",
      " 20.02768213 20.22326312 20.41884411 20.6144251  20.81000609 21.00558707\n",
      " 21.20116806 21.39674905 21.59233004 21.78791103]\n"
     ]
    }
   ],
   "source": [
    "# GD function\n",
    "def gradientDescent(X, y, theta, alpha, iters):\n",
    "    temp = np.matrix(np.zeros(theta.shape))\n",
    "    parameters = int(theta.ravel().shape[1])\n",
    "    cost = np.zeros(iters)\n",
    "    \n",
    "    for i in range(iters):\n",
    "        error = (X * theta.T) - y\n",
    "        \n",
    "        for j in range(parameters):\n",
    "            term = np.multiply(error, X[:,j])\n",
    "            temp[0,j] = theta[0,j] - ((alpha / len(X)) * np.sum(term))\n",
    "            \n",
    "        theta = temp\n",
    "        cost[i] = computeCost(X, y, theta)\n",
    "        \n",
    "    return theta, cost\n",
    "\n",
    "\n",
    "# initialize variables for learning rate and iterations\n",
    "alpha = 0.01\n",
    "iters = 1000\n",
    "\n",
    "# perform gradient descent to \"fit\" the model parameters\n",
    "g, cost = gradientDescent(X, y, theta, alpha, iters)\n",
    "\n",
    "print('g = ' , g)\n",
    "print('cost  = ' , cost[0:50] )\n",
    "print('computeCost = ' , computeCost(X, y, g))\n",
    "print('**************************************')\n",
    "\n",
    "\n",
    "#=========================================================================\n",
    "\n",
    "# get best fit line\n",
    "\n",
    "x = np.linspace(data.Population.min(), data.Population.max(), 100)\n",
    "print('x \\n',x)\n",
    "print('g \\n',g)\n",
    "\n",
    "f = g[0, 0] + (g[0, 1] * x)\n",
    "print('f \\n',f)"
   ]
  },
  {
   "cell_type": "code",
   "execution_count": 13,
   "metadata": {
    "colab": {
     "base_uri": "https://localhost:8080/",
     "height": 1000
    },
    "id": "--cQP_PDkH8S",
    "outputId": "fbfa688b-e975-4324-cb9c-2e4f91f9617f"
   },
   "outputs": [
    {
     "data": {
      "text/plain": [
       "Text(0.5, 1.0, 'Error vs. Training Epoch')"
      ]
     },
     "execution_count": 13,
     "metadata": {},
     "output_type": "execute_result"
    },
    {
     "data": {
      "image/png": "[encoded data removed]",
      "text/plain": [
       "<Figure size 360x360 with 1 Axes>"
      ]
     },
     "metadata": {
      "needs_background": "light"
     },
     "output_type": "display_data"
    },
    {
     "data": {
      "image/png": "[encoded data removed]",
      "text/plain": [
       "<Figure size 360x360 with 1 Axes>"
      ]
     },
     "metadata": {
      "needs_background": "light"
     },
     "output_type": "display_data"
    }
   ],
   "source": [
    "# draw the line\n",
    "\n",
    "fig, ax = plt.subplots(figsize=(5,5))\n",
    "ax.plot(x, f, 'r', label='Prediction')\n",
    "ax.scatter(data.Population, data.Profit, label='Traning Data')\n",
    "ax.legend(loc=2)\n",
    "ax.set_xlabel('Population')\n",
    "ax.set_ylabel('Profit')\n",
    "ax.set_title('Predicted Profit vs. Population Size')\n",
    "\n",
    "\n",
    "# draw error graph\n",
    "\n",
    "fig, ax = plt.subplots(figsize=(5,5))\n",
    "ax.plot(np.arange(iters), cost, 'r')\n",
    "ax.set_xlabel('Iterations')\n",
    "ax.set_ylabel('Cost')\n",
    "ax.set_title('Error vs. Training Epoch')"
   ]
  },
  {
   "cell_type": "code",
   "execution_count": null,
   "metadata": {
    "id": "SK1bLA-KkaSI"
   },
   "outputs": [],
   "source": []
  }
 ],
 "metadata": {
  "colab": {
   "name": "Regression using Pandas and Numpy Only.ipynb",
   "provenance": []
  },
  "kernelspec": {
   "display_name": "Python 3",
   "language": "python",
   "name": "python3"
  },
  "language_info": {
   "codemirror_mode": {
    "name": "ipython",
    "version": 3
   },
   "file_extension": ".py",
   "mimetype": "text/x-python",
   "name": "python",
   "nbconvert_exporter": "python",
   "pygments_lexer": "ipython3",
   "version": "3.8.5"
  }
 },
 "nbformat": 4,
 "nbformat_minor": 1
}
