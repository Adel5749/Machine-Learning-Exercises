{
 "cells": [
  {
   "cell_type": "code",
   "execution_count": 3,
   "metadata": {},
   "outputs": [],
   "source": [
    "#Import Libraries\n",
    "from sklearn.datasets import load_boston\n",
    "from sklearn.model_selection import train_test_split\n",
    "from sklearn.model_selection import GridSearchCV\n",
    "import pandas as pd\n",
    "#----------------------------------------------------"
   ]
  },
  {
   "cell_type": "code",
   "execution_count": 8,
   "metadata": {},
   "outputs": [],
   "source": [
    "#load boston data\n",
    "\n",
    "BostonData = load_boston()"
   ]
  },
  {
   "cell_type": "code",
   "execution_count": 9,
   "metadata": {},
   "outputs": [
    {
     "name": "stdout",
     "output_type": "stream",
     "text": [
      "X Data is \n",
      " [[6.3200e-03 1.8000e+01 2.3100e+00 0.0000e+00 5.3800e-01 6.5750e+00\n",
      "  6.5200e+01 4.0900e+00 1.0000e+00 2.9600e+02 1.5300e+01 3.9690e+02\n",
      "  4.9800e+00]\n",
      " [2.7310e-02 0.0000e+00 7.0700e+00 0.0000e+00 4.6900e-01 6.4210e+00\n",
      "  7.8900e+01 4.9671e+00 2.0000e+00 2.4200e+02 1.7800e+01 3.9690e+02\n",
      "  9.1400e+00]\n",
      " [2.7290e-02 0.0000e+00 7.0700e+00 0.0000e+00 4.6900e-01 7.1850e+00\n",
      "  6.1100e+01 4.9671e+00 2.0000e+00 2.4200e+02 1.7800e+01 3.9283e+02\n",
      "  4.0300e+00]\n",
      " [3.2370e-02 0.0000e+00 2.1800e+00 0.0000e+00 4.5800e-01 6.9980e+00\n",
      "  4.5800e+01 6.0622e+00 3.0000e+00 2.2200e+02 1.8700e+01 3.9463e+02\n",
      "  2.9400e+00]\n",
      " [6.9050e-02 0.0000e+00 2.1800e+00 0.0000e+00 4.5800e-01 7.1470e+00\n",
      "  5.4200e+01 6.0622e+00 3.0000e+00 2.2200e+02 1.8700e+01 3.9690e+02\n",
      "  5.3300e+00]\n",
      " [2.9850e-02 0.0000e+00 2.1800e+00 0.0000e+00 4.5800e-01 6.4300e+00\n",
      "  5.8700e+01 6.0622e+00 3.0000e+00 2.2200e+02 1.8700e+01 3.9412e+02\n",
      "  5.2100e+00]\n",
      " [8.8290e-02 1.2500e+01 7.8700e+00 0.0000e+00 5.2400e-01 6.0120e+00\n",
      "  6.6600e+01 5.5605e+00 5.0000e+00 3.1100e+02 1.5200e+01 3.9560e+02\n",
      "  1.2430e+01]\n",
      " [1.4455e-01 1.2500e+01 7.8700e+00 0.0000e+00 5.2400e-01 6.1720e+00\n",
      "  9.6100e+01 5.9505e+00 5.0000e+00 3.1100e+02 1.5200e+01 3.9690e+02\n",
      "  1.9150e+01]\n",
      " [2.1124e-01 1.2500e+01 7.8700e+00 0.0000e+00 5.2400e-01 5.6310e+00\n",
      "  1.0000e+02 6.0821e+00 5.0000e+00 3.1100e+02 1.5200e+01 3.8663e+02\n",
      "  2.9930e+01]\n",
      " [1.7004e-01 1.2500e+01 7.8700e+00 0.0000e+00 5.2400e-01 6.0040e+00\n",
      "  8.5900e+01 6.5921e+00 5.0000e+00 3.1100e+02 1.5200e+01 3.8671e+02\n",
      "  1.7100e+01]]\n",
      "X shape is  (506, 13)\n",
      "X Features are \n",
      " ['CRIM' 'ZN' 'INDUS' 'CHAS' 'NOX' 'RM' 'AGE' 'DIS' 'RAD' 'TAX' 'PTRATIO'\n",
      " 'B' 'LSTAT']\n",
      "y Data is \n",
      " [24.  21.6 34.7 33.4 36.2 28.7 22.9 27.1 16.5 18.9]\n",
      "y shape is  (506,)\n"
     ]
    }
   ],
   "source": [
    "#X Data\n",
    "X = BostonData.data\n",
    "print('X Data is \\n' , X[:10])\n",
    "print('X shape is ' , X.shape)\n",
    "print('X Features are \\n' , BostonData.feature_names)\n",
    "\n",
    "#y Data\n",
    "y = BostonData.target\n",
    "print('y Data is \\n' , y[:10])\n",
    "print('y shape is ' , y.shape)\n"
   ]
  },
  {
   "cell_type": "code",
   "execution_count": 6,
   "metadata": {},
   "outputs": [],
   "source": [
    "#Splitting data\n",
    "\n",
    "X_train, X_test, y_train, y_test = train_test_split(X, y, test_size=0.33, random_state=44, shuffle =True)\n"
   ]
  },
  {
   "cell_type": "code",
   "execution_count": null,
   "metadata": {},
   "outputs": [],
   "source": [
    "#Applying Grid Searching :  \n",
    "'''\n",
    "model_selection.GridSearchCV(estimator, param_grid, scoring=None,fit_params=None, n_jobs=None, iid=’warn’,\n",
    "                             refit=True, cv=’warn’, verbose=0,pre_dispatch=‘2*n_jobs’, error_score=\n",
    "                             ’raisedeprecating’,return_train_score=’warn’)\n",
    "\n",
    "'''\n",
    " \n",
    "from sklearn.svm import SVR\n",
    "SelectedModel = SVR(epsilon=0.1,gamma='auto')\n",
    "SelectedParameters = {'kernel':('linear', 'rbf'), 'C':[1,2,3,4,5]}\n",
    "\n",
    "\n",
    "GridSearchModel = GridSearchCV(SelectedModel,SelectedParameters, cv = 2,return_train_score=True)\n",
    "GridSearchModel.fit(X_train, y_train)\n",
    "sorted(GridSearchModel.cv_results_.keys())\n",
    "GridSearchResults = pd.DataFrame(GridSearchModel.cv_results_)[['mean_test_score', 'std_test_score', 'params' , 'rank_test_score' , 'mean_fit_time']]"
   ]
  },
  {
   "cell_type": "code",
   "execution_count": 7,
   "metadata": {},
   "outputs": [
    {
     "name": "stdout",
     "output_type": "stream",
     "text": [
      "All Results are :\n",
      "    mean_test_score  std_test_score                        params  \\\n",
      "0         0.687373        0.067711  {'C': 1, 'kernel': 'linear'}   \n",
      "1        -0.009616        0.020054     {'C': 1, 'kernel': 'rbf'}   \n",
      "2         0.686529        0.070492  {'C': 2, 'kernel': 'linear'}   \n",
      "3         0.002848        0.021567     {'C': 2, 'kernel': 'rbf'}   \n",
      "4         0.686257        0.071132  {'C': 3, 'kernel': 'linear'}   \n",
      "5         0.012941        0.023699     {'C': 3, 'kernel': 'rbf'}   \n",
      "6         0.687823        0.070697  {'C': 4, 'kernel': 'linear'}   \n",
      "7         0.019786        0.026544     {'C': 4, 'kernel': 'rbf'}   \n",
      "8         0.685095        0.068907  {'C': 5, 'kernel': 'linear'}   \n",
      "9         0.026605        0.027775     {'C': 5, 'kernel': 'rbf'}   \n",
      "\n",
      "   rank_test_score  mean_fit_time  \n",
      "0                2       1.983189  \n",
      "1               10       0.018497  \n",
      "2                3       5.091203  \n",
      "3                9       0.004999  \n",
      "4                4       5.626118  \n",
      "5                8       0.008499  \n",
      "6                1       7.058896  \n",
      "7                7       0.006498  \n",
      "8                5      10.270893  \n",
      "9                6       0.005996  \n",
      "Best Score is : 0.6878232334025816\n",
      "Best Parameters are : {'C': 4, 'kernel': 'linear'}\n",
      "Best Estimator is : SVR(C=4, gamma='auto', kernel='linear')\n"
     ]
    }
   ],
   "source": [
    "# Showing Results\n",
    "print('All Results are :\\n', GridSearchResults )\n",
    "print('Best Score is :', GridSearchModel.best_score_)\n",
    "print('Best Parameters are :', GridSearchModel.best_params_)\n",
    "print('Best Estimator is :', GridSearchModel.best_estimator_)"
   ]
  },
  {
   "cell_type": "code",
   "execution_count": null,
   "metadata": {},
   "outputs": [],
   "source": []
  }
 ],
 "metadata": {
  "kernelspec": {
   "display_name": "Python 3",
   "language": "python",
   "name": "python3"
  },
  "language_info": {
   "codemirror_mode": {
    "name": "ipython",
    "version": 3
   },
   "file_extension": ".py",
   "mimetype": "text/x-python",
   "name": "python",
   "nbconvert_exporter": "python",
   "pygments_lexer": "ipython3",
   "version": "3.8.5"
  }
 },
 "nbformat": 4,
 "nbformat_minor": 4
}
