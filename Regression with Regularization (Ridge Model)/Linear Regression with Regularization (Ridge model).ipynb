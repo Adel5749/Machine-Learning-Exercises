{
 "cells": [
  {
   "cell_type": "code",
   "execution_count": 1,
   "metadata": {},
   "outputs": [],
   "source": [
    "#Import Libraries\n",
    "from sklearn.datasets import load_boston\n",
    "from sklearn.model_selection import train_test_split\n",
    "from sklearn.linear_model import Ridge\n",
    "from sklearn.metrics import mean_absolute_error \n",
    "from sklearn.metrics import mean_squared_error \n",
    "from sklearn.metrics import median_absolute_error\n",
    "#----------------------------------------------------"
   ]
  },
  {
   "cell_type": "code",
   "execution_count": 2,
   "metadata": {},
   "outputs": [],
   "source": [
    "#load boston data\n",
    "BostonData = load_boston()"
   ]
  },
  {
   "cell_type": "code",
   "execution_count": 3,
   "metadata": {},
   "outputs": [],
   "source": [
    "#X Data\n",
    "X = BostonData.data\n",
    "\n",
    "#y Data\n",
    "y = BostonData.target\n",
    "#----------------------------------------------------"
   ]
  },
  {
   "cell_type": "code",
   "execution_count": 4,
   "metadata": {},
   "outputs": [
    {
     "data": {
      "text/plain": [
       "Ridge(random_state=33)"
      ]
     },
     "execution_count": 4,
     "metadata": {},
     "output_type": "execute_result"
    }
   ],
   "source": [
    "#Splitting data\n",
    "\n",
    "X_train, X_test, y_train, y_test = train_test_split(X, y, test_size=0.33, random_state=44, shuffle =True)\n",
    "#----------------------------------------------------\n",
    "#Applying Ridge Regression Model \n",
    "\n",
    "'''\n",
    "#sklearn.linear_model.Ridge(alpha=1.0, fit_intercept=True, normalize=False,\n",
    "#                           copy_X=True, max_iter=None, tol=0.001, solver='auto',\n",
    "#                           random_state=None)\n",
    "'''\n",
    "\n",
    "RidgeRegressionModel = Ridge(alpha=1.0,random_state=33)\n",
    "RidgeRegressionModel.fit(X_train, y_train)"
   ]
  },
  {
   "cell_type": "code",
   "execution_count": 5,
   "metadata": {},
   "outputs": [
    {
     "name": "stdout",
     "output_type": "stream",
     "text": [
      "Ridge Regression Train Score is :  0.7359190514377463\n",
      "Ridge Regression Test Score is :  0.7168582507385772\n",
      "Ridge Regression Coef is :  [-0.14428942  0.05972008 -0.09000631  1.56026811 -9.06085979  3.1984024\n",
      " -0.00931524 -1.65498927  0.27826889 -0.01339655 -0.77566368  0.01074529\n",
      " -0.48600773]\n",
      "Ridge Regression intercept is :  34.33744293090288\n",
      "----------------------------------------------------\n"
     ]
    }
   ],
   "source": [
    "#Calculating Details\n",
    "print('Ridge Regression Train Score is : ' , RidgeRegressionModel.score(X_train, y_train))\n",
    "print('Ridge Regression Test Score is : ' , RidgeRegressionModel.score(X_test, y_test))\n",
    "print('Ridge Regression Coef is : ' , RidgeRegressionModel.coef_)\n",
    "print('Ridge Regression intercept is : ' , RidgeRegressionModel.intercept_)\n",
    "print('----------------------------------------------------')"
   ]
  },
  {
   "cell_type": "code",
   "execution_count": 6,
   "metadata": {},
   "outputs": [
    {
     "name": "stdout",
     "output_type": "stream",
     "text": [
      "Predicted Value for Ridge Regression is :  [18.05200951 23.55480134 21.11622888 34.81904322 12.37543491 32.16690905\n",
      " 19.91533263 24.57458378 30.49754442 22.87886074]\n"
     ]
    }
   ],
   "source": [
    "#Calculating Prediction\n",
    "y_pred = RidgeRegressionModel.predict(X_test)\n",
    "print('Predicted Value for Ridge Regression is : ' , y_pred[:10])\n",
    "\n",
    "#----------------------------------------------------"
   ]
  },
  {
   "cell_type": "code",
   "execution_count": 7,
   "metadata": {},
   "outputs": [
    {
     "name": "stdout",
     "output_type": "stream",
     "text": [
      "Mean Absolute Error Value is :  3.6103589525512194\n",
      "Mean Squared Error Value is :  27.849211482758882\n",
      "Median Squared Error Value is :  2.1934805378612285\n"
     ]
    }
   ],
   "source": [
    "#Calculating Mean Absolute Error\n",
    "MAEValue = mean_absolute_error(y_test, y_pred, multioutput='uniform_average') # it can be raw_values\n",
    "print('Mean Absolute Error Value is : ', MAEValue)\n",
    "\n",
    "#----------------------------------------------------\n",
    "#Calculating Mean Squared Error\n",
    "MSEValue = mean_squared_error(y_test, y_pred, multioutput='uniform_average') # it can be raw_values\n",
    "print('Mean Squared Error Value is : ', MSEValue)\n",
    "\n",
    "#----------------------------------------------------\n",
    "#Calculating Median Squared Error\n",
    "MdSEValue = median_absolute_error(y_test, y_pred)\n",
    "print('Median Squared Error Value is : ', MdSEValue )"
   ]
  },
  {
   "cell_type": "code",
   "execution_count": null,
   "metadata": {},
   "outputs": [],
   "source": []
  }
 ],
 "metadata": {
  "kernelspec": {
   "display_name": "Python 3",
   "language": "python",
   "name": "python3"
  },
  "language_info": {
   "codemirror_mode": {
    "name": "ipython",
    "version": 3
   },
   "file_extension": ".py",
   "mimetype": "text/x-python",
   "name": "python",
   "nbconvert_exporter": "python",
   "pygments_lexer": "ipython3",
   "version": "3.8.5"
  }
 },
 "nbformat": 4,
 "nbformat_minor": 4
}
