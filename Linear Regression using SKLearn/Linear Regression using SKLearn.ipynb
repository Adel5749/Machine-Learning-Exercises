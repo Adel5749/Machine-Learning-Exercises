{
 "cells": [
  {
   "cell_type": "code",
   "execution_count": 2,
   "metadata": {},
   "outputs": [],
   "source": [
    "from sklearn.impute import SimpleImputer\n",
    "from sklearn.preprocessing import StandardScaler\n",
    "from sklearn.metrics import median_absolute_error, average_precision_score,mean_absolute_error\n",
    "from sklearn.model_selection import train_test_split\n",
    "from sklearn.linear_model import LinearRegression\n",
    "import pandas as pd\n",
    "import matplotlib.pyplot as plt\n",
    "import numpy as np"
   ]
  },
  {
   "cell_type": "code",
   "execution_count": 3,
   "metadata": {},
   "outputs": [],
   "source": [
    "#reading data file\n",
    "dataset=pd.read_csv('houses.csv')"
   ]
  },
  {
   "cell_type": "code",
   "execution_count": 4,
   "metadata": {},
   "outputs": [],
   "source": [
    "#Cleaning\n",
    "imp=SimpleImputer(missing_values=np.nan, strategy='mean')\n",
    "imp=imp.fit(dataset)\n",
    "dataset=imp.transform(dataset)"
   ]
  },
  {
   "cell_type": "code",
   "execution_count": 5,
   "metadata": {},
   "outputs": [
    {
     "name": "stdout",
     "output_type": "stream",
     "text": [
      "(1000, 17)\n"
     ]
    }
   ],
   "source": [
    "# specify X and y\n",
    "X=dataset[:,:-1]\n",
    "y=dataset[:,-1]\n",
    "print(X.shape)"
   ]
  },
  {
   "cell_type": "code",
   "execution_count": 6,
   "metadata": {},
   "outputs": [],
   "source": [
    "# Rescaling\n",
    "scaler=StandardScaler()\n",
    "\n",
    "scaler=scaler.fit(X)\n",
    "X=scaler.transform(X)"
   ]
  },
  {
   "cell_type": "code",
   "execution_count": 7,
   "metadata": {},
   "outputs": [],
   "source": [
    "#Splitting\n",
    "X_train,X_test,y_train,y_test= train_test_split(X,y,test_size=0.2,random_state=20)"
   ]
  },
  {
   "cell_type": "code",
   "execution_count": 8,
   "metadata": {},
   "outputs": [],
   "source": [
    "#Algorithm\n",
    "linear=LinearRegression()\n",
    "linear=linear.fit(X_train,y_train)\n",
    "y_pred=linear.predict(X_test)"
   ]
  },
  {
   "cell_type": "code",
   "execution_count": 9,
   "metadata": {},
   "outputs": [
    {
     "name": "stdout",
     "output_type": "stream",
     "text": [
      "0.731263111315342\n",
      "0.705032630676206\n"
     ]
    }
   ],
   "source": [
    "#Score function\n",
    "print(linear.score(X_train, y_train))\n",
    "print(linear.score(X_test, y_test))"
   ]
  },
  {
   "cell_type": "code",
   "execution_count": 10,
   "metadata": {},
   "outputs": [
    {
     "name": "stdout",
     "output_type": "stream",
     "text": [
      "median error:  7.1411490617625475\n",
      "mean error:  10.04915894444308\n",
      "median error:  7.1411490617625475\n"
     ]
    }
   ],
   "source": [
    "# Cost function\n",
    "print('median error: ',median_absolute_error( y_test, y_pred))\n",
    "print('mean error: ',mean_absolute_error( y_test, y_pred))\n",
    "\n",
    "print('median error: ',median_absolute_error( y_test, y_pred))"
   ]
  },
  {
   "cell_type": "code",
   "execution_count": 11,
   "metadata": {},
   "outputs": [
    {
     "name": "stdout",
     "output_type": "stream",
     "text": [
      "[-1.50010547  2.25903009  4.649098    0.31972241  2.00702858  7.44401215\n",
      "  4.53194354  0.9726597  10.32016615  3.4244252   3.15534978 -8.17012554\n",
      "  0.93519387 -2.79769863  7.87252348 -1.29830887  4.8640727 ]\n"
     ]
    }
   ],
   "source": [
    "# Theta values\n",
    "print(linear.coef_)"
   ]
  },
  {
   "cell_type": "code",
   "execution_count": null,
   "metadata": {},
   "outputs": [],
   "source": []
  }
 ],
 "metadata": {
  "kernelspec": {
   "display_name": "Python 3",
   "language": "python",
   "name": "python3"
  },
  "language_info": {
   "codemirror_mode": {
    "name": "ipython",
    "version": 3
   },
   "file_extension": ".py",
   "mimetype": "text/x-python",
   "name": "python",
   "nbconvert_exporter": "python",
   "pygments_lexer": "ipython3",
   "version": "3.8.5"
  }
 },
 "nbformat": 4,
 "nbformat_minor": 4
}
