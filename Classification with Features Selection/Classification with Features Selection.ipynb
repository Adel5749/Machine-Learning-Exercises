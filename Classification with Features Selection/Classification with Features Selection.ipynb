{
 "cells": [
  {
   "cell_type": "code",
   "execution_count": 1,
   "metadata": {},
   "outputs": [],
   "source": [
    "from sklearn.datasets import load_breast_cancer\n",
    "from sklearn.linear_model import LogisticRegression\n",
    "from sklearn.metrics import accuracy_score, confusion_matrix\n",
    "from sklearn.model_selection import train_test_split\n",
    "from sklearn.feature_selection import SelectPercentile ,f_classif , chi2 "
   ]
  },
  {
   "cell_type": "code",
   "execution_count": 2,
   "metadata": {},
   "outputs": [],
   "source": [
    "data = load_breast_cancer()\n",
    "X = data.data\n",
    "y = data.target"
   ]
  },
  {
   "cell_type": "code",
   "execution_count": 3,
   "metadata": {},
   "outputs": [
    {
     "name": "stdout",
     "output_type": "stream",
     "text": [
      "Selected features = \n",
      " [False False  True False False False False  True False False False False\n",
      " False False False False False False False False  True False  True  True\n",
      " False False False  True False False]\n"
     ]
    }
   ],
   "source": [
    "#sel = SelectPercentile(score_func = chi2 , percentile = 20)\n",
    "#sel = SelectPercentile(score_func = chi2 , percentile = 40)\n",
    "#sel = SelectPercentile(score_func = chi2 , percentile = 60)\n",
    "#sel = SelectPercentile(score_func = chi2, percentile = 80)\n",
    "\n",
    "sel = SelectPercentile(score_func = f_classif , percentile = 20)\n",
    "\n",
    "sel.fit(X,y)\n",
    "selected_features = sel.transform(X)\n",
    "sfeatures = sel.get_support()\n",
    "print('Selected features = \\n' , sfeatures)"
   ]
  },
  {
   "cell_type": "code",
   "execution_count": 4,
   "metadata": {},
   "outputs": [],
   "source": [
    "x_train, x_test, y_train, y_test = train_test_split(selected_features, y, test_size = 0.2)"
   ]
  },
  {
   "cell_type": "code",
   "execution_count": 5,
   "metadata": {},
   "outputs": [],
   "source": [
    "logreg = LogisticRegression()\n",
    "logreg.fit(x_train , y_train)\n",
    "result= logreg.predict(x_test)"
   ]
  },
  {
   "cell_type": "code",
   "execution_count": 6,
   "metadata": {},
   "outputs": [
    {
     "name": "stdout",
     "output_type": "stream",
     "text": [
      "accuarcy =  0.9385964912280702\n",
      "confusion matrix \n",
      " [[41  6]\n",
      " [ 1 66]]\n"
     ]
    }
   ],
   "source": [
    "print('accuarcy = ',accuracy_score(y_test , result))\n",
    "\n",
    "conf = confusion_matrix(y_test , result)\n",
    "print('confusion matrix \\n',  conf)\n",
    " "
   ]
  },
  {
   "cell_type": "code",
   "execution_count": null,
   "metadata": {},
   "outputs": [],
   "source": []
  }
 ],
 "metadata": {
  "kernelspec": {
   "display_name": "Python 3",
   "language": "python",
   "name": "python3"
  },
  "language_info": {
   "codemirror_mode": {
    "name": "ipython",
    "version": 3
   },
   "file_extension": ".py",
   "mimetype": "text/x-python",
   "name": "python",
   "nbconvert_exporter": "python",
   "pygments_lexer": "ipython3",
   "version": "3.8.5"
  }
 },
 "nbformat": 4,
 "nbformat_minor": 4
}
